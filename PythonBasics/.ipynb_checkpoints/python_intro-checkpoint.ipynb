{
 "cells": [
  {
   "cell_type": "markdown",
   "metadata": {
    "slideshow": {
     "slide_type": "slide"
    }
   },
   "source": [
    "![Alt](images/python_logo.png \"Title\")\n",
    "# Python\n",
    "## an introduction\n",
    "*****\n",
    "PG programmers' group, March, 3rd, 2017<br>\n",
    "\n",
    "<small>SzulMJ@cardiff.ac.uk</small><br>\n",
    "\n",
    "<small>@MaciekSzul</small><br>"
   ]
  },
  {
   "cell_type": "markdown",
   "metadata": {
    "slideshow": {
     "slide_type": "slide"
    }
   },
   "source": [
    "![Alt](images/python.png \"Cartoon\")\n",
    "https://xkcd.com/353/"
   ]
  },
  {
   "cell_type": "code",
   "execution_count": 1,
   "metadata": {
    "collapsed": false,
    "slideshow": {
     "slide_type": "slide"
    }
   },
   "outputs": [
    {
     "name": "stdout",
     "output_type": "stream",
     "text": [
      "The Zen of Python, by Tim Peters\n",
      "\n",
      "Beautiful is better than ugly.\n",
      "Explicit is better than implicit.\n",
      "Simple is better than complex.\n",
      "Complex is better than complicated.\n",
      "Flat is better than nested.\n",
      "Sparse is better than dense.\n",
      "Readability counts.\n",
      "Special cases aren't special enough to break the rules.\n",
      "Although practicality beats purity.\n",
      "Errors should never pass silently.\n",
      "Unless explicitly silenced.\n",
      "In the face of ambiguity, refuse the temptation to guess.\n",
      "There should be one-- and preferably only one --obvious way to do it.\n",
      "Although that way may not be obvious at first unless you're Dutch.\n",
      "Now is better than never.\n",
      "Although never is often better than *right* now.\n",
      "If the implementation is hard to explain, it's a bad idea.\n",
      "If the implementation is easy to explain, it may be a good idea.\n",
      "Namespaces are one honking great idea -- let's do more of those!\n"
     ]
    }
   ],
   "source": [
    "import this"
   ]
  },
  {
   "cell_type": "markdown",
   "metadata": {
    "slideshow": {
     "slide_type": "slide"
    }
   },
   "source": [
    "### WHO IS USING PYTHON?\n",
    "* Dropbox\n",
    "* Google\n",
    "* Mozilla\n",
    "* NASA\n",
    "* Pinterest\n",
    "* Reddit\n",
    "* YouTube"
   ]
  },
  {
   "cell_type": "markdown",
   "metadata": {
    "slideshow": {
     "slide_type": "slide"
    }
   },
   "source": [
    "### PYTHON IS:\n",
    "* FREE, <u>general purpose</u>, open source, high level, scripting language\n",
    "* Simple syntax helps maintenance, using and understanding code.\n",
    "* Platform independent (LINUX, OS X, WINDOWS)\n",
    "* Made by community = more eyes looking for bugs!\n",
    "* Lightweight\n"
   ]
  },
  {
   "cell_type": "markdown",
   "metadata": {
    "slideshow": {
     "slide_type": "slide"
    }
   },
   "source": [
    "### PYTHON IS USEFUL FOR:\n",
    "* ALMOST EVERYTHING!\n",
    " * 'data science'\n",
    " * object oriented programming\n",
    " * graphical user interfaces (Qt)\n",
    " * system scripting\n",
    " * scientific computing <font size='2' color='red'>empirical gangsta</font>\n",
    " * teaching programming (e.g. M.I.T., Stanford)\n",
    " * interfacing with multiple environments and devices"
   ]
  },
  {
   "cell_type": "markdown",
   "metadata": {
    "slideshow": {
     "slide_type": "slide"
    }
   },
   "source": [
    "### WHAT IS IN IT FOR YOU?\n",
    "* easier to learn programming\n",
    "* abundance of libraries will let you do a lot more!\n",
    "* can give you brighter future\n",
    "* unless you are engineer in an obscure field, no-one is using MATLAB\n",
    "* truly open science"
   ]
  },
  {
   "cell_type": "markdown",
   "metadata": {
    "collapsed": true,
    "slideshow": {
     "slide_type": "slide"
    }
   },
   "source": [
    "### PYTHON IN PSYCHOLOGY/NEUROSCIENCE\n",
    "* stimuli, experiments (Psychopy, PySesame, PyGame, Pyglet)\n",
    " * spot-on timing\n",
    " * calibration\n",
    " * object oriented programming\n",
    " * on-line!\n",
    " * integration of various peripheral input devices\n",
    "* data managing (Pandas, SQLite)\n",
    " * easy programmatic data manipulation\n",
    " * scripting for reproducibility"
   ]
  },
  {
   "cell_type": "markdown",
   "metadata": {
    "slideshow": {
     "slide_type": "slide"
    }
   },
   "source": [
    "### PYTHON IN PSYCHOLOGY/NEUROSCIENCE\n",
    "* basic and more complicated data analysis\n",
    " * basic ststistics implemented (statsmodels, scipy)\n",
    " * model specification and fitting (scipy, pymc3)\n",
    " * statistical ('machine') learning (scikit-learn theano, torch)\n",
    " * interaction with R (R knowledge recommended) (rpy) <font size='2' color='red'>murder R</font>\n",
    " * probabilistic programming (pymc3)\n",
    "* data visualisation (matplotlib, seaborn, bokeh, mayavi, vtk)\n"
   ]
  },
  {
   "cell_type": "markdown",
   "metadata": {
    "slideshow": {
     "slide_type": "slide"
    }
   },
   "source": [
    "### PYTHON IN PSYCHOLOGY/NEUROSCIENCE\n",
    "* libraries for neuroimaging\n",
    " * Nipype - interfaces SPM, AFNI, FSL, ANTs using python\n",
    " * Nipy - pure python MRI library\n",
    " * Nilearn - Scikit-learn adapted to MRI data\n",
    " * Dipy - python package for Diffusion Tensor Imaging\n",
    " * MNE-Python - pure python package for M/EEG\n",
    "* large amount of libraries available on github"
   ]
  },
  {
   "cell_type": "markdown",
   "metadata": {
    "slideshow": {
     "slide_type": "slide"
    }
   },
   "source": [
    "### TUTORIALS, FURTHER READING AND USEFUL LINKS\n",
    "* http://www.scipy-lectures.org/\n",
    "* http://www.psychopy.org/\n",
    "* http://osdoc.cogsci.nl/\n",
    "* documentation of most of packages usually contains multiple examples and tutorials\n",
    "* https://sites.google.com/site/pythonforscientists/python-vs-matlab\n",
    "* http://www.stat.washington.edu/~hoytak/blog/whypython.html\n",
    "* https://docs.scipy.org/doc/numpy-dev/user/numpy-for-matlab-users.html\n",
    "* http://www.pyzo.org/python_vs_matlab.html\n",
    "* https://stevetjoa.com/305/\n",
    "* http://phillipmfeldman.org/Python/Advantages_of_Python_Over_Matlab.html"
   ]
  },
  {
   "cell_type": "markdown",
   "metadata": {
    "slideshow": {
     "slide_type": "slide"
    }
   },
   "source": [
    "### HOW TO START?\n",
    "* Download and install miniconda for your operating system: https://conda.io/miniconda.html\n",
    "* Usage documentation: https://conda.io/docs/using/index.html\n",
    "* Download standalone Psychopy (+ pip)"
   ]
  },
  {
   "cell_type": "markdown",
   "metadata": {
    "slideshow": {
     "slide_type": "slide"
    }
   },
   "source": [
    "### HOW TO USE PYTHON?\n",
    "* Through command line/terminal\n",
    "* ipython interactive console with %magic\n",
    "* Jupyter Notebook ()\n",
    "* Nice 'scientific' IDEs\n",
    "* Hardcore programming ones"
   ]
  },
  {
   "cell_type": "markdown",
   "metadata": {
    "slideshow": {
     "slide_type": "slide"
    }
   },
   "source": [
    "![Alt](images/spyder.png \"Spyder\")"
   ]
  },
  {
   "cell_type": "markdown",
   "metadata": {
    "slideshow": {
     "slide_type": "slide"
    }
   },
   "source": [
    "![Alt](images/atom.png \"Atom\")"
   ]
  },
  {
   "cell_type": "markdown",
   "metadata": {
    "slideshow": {
     "slide_type": "slide"
    }
   },
   "source": [
    "![Alt](images/rodeo.png \"Rodeo\")"
   ]
  },
  {
   "cell_type": "markdown",
   "metadata": {
    "slideshow": {
     "slide_type": "slide"
    }
   },
   "source": [
    "![Alt](images/sublime1.png \"Sublime\")"
   ]
  },
  {
   "cell_type": "markdown",
   "metadata": {
    "collapsed": true,
    "slideshow": {
     "slide_type": "slide"
    }
   },
   "source": [
    "### Example of simple interactive plot\n",
    "\n",
    "* let's generate pdf function\n",
    "* ex-gaussian, most of RT data have this shape\n",
    "* m - mean of underlying normal distribution\n",
    "* sd - standard distribution of underlying normal distribution\n",
    "* K - shape parameter"
   ]
  },
  {
   "cell_type": "code",
   "execution_count": 2,
   "metadata": {
    "collapsed": false,
    "slideshow": {
     "slide_type": "slide"
    }
   },
   "outputs": [],
   "source": [
    "import numpy as np  # NumPy - numerical Python, very fast operations on arrays\n",
    "from scipy.stats import exponnorm  # SciPy - scientific mega-package\n",
    "import seaborn as sns  # Seaborn - nice plots\n",
    "import matplotlib.pylab as plt  # Pylab - basic plots\n",
    "from ipywidgets import interact  # iPython wigdets for interactive plot"
   ]
  },
  {
   "cell_type": "code",
   "execution_count": 3,
   "metadata": {
    "collapsed": true,
    "slideshow": {
     "slide_type": "slide"
    }
   },
   "outputs": [],
   "source": [
    "def plot_norm(m, sd, K):  # function with arguments\n",
    "    x = np.linspace(-1, 10, num=150)  # equally spaced numbers\n",
    "    y = exponnorm.pdf(x, K, loc=m, scale=sd)  # apply exponentially modified normal\n",
    "    plt.plot(y)  # generate the plot\n",
    "    plt.show()  # render the plot"
   ]
  },
  {
   "cell_type": "code",
   "execution_count": 4,
   "metadata": {
    "collapsed": false,
    "slideshow": {
     "slide_type": "slide"
    }
   },
   "outputs": [
    {
     "data": {
      "image/png": "[encoded data removed]",
      "text/plain": [
       "<matplotlib.figure.Figure at 0x7f0c1e4aa450>"
      ]
     },
     "metadata": {},
     "output_type": "display_data"
    }
   ],
   "source": [
    "interact(plot_norm, m=(0.1,1, 0.05), sd=(0.1,1, 0.05), K=(0.1,5, 0.05))"
   ]
  },
  {
   "cell_type": "markdown",
   "metadata": {
    "collapsed": true,
    "slideshow": {
     "slide_type": "slide"
    }
   },
   "source": [
    "### Example of P-P plot and noise\n",
    "* two distributions\n",
    "* one is normal, one is modified by noise sampled form exponential function\n",
    "* plotting two cumulative distribution against each other to see how much they differ"
   ]
  },
  {
   "cell_type": "code",
   "execution_count": 5,
   "metadata": {
    "collapsed": true,
    "slideshow": {
     "slide_type": "slide"
    }
   },
   "outputs": [],
   "source": [
    "import numpy as np  # NumPy - numerical Python, very fast operations on arrays\n",
    "from scipy.stats import norm, exponnorm, probplot  # SciPy - scientific mega-package\n",
    "import seaborn as sns  # Seaborn - nice plots\n",
    "import matplotlib.pylab as plt  # Pylab - basic plots\n",
    "from ipywidgets import interact  # iPython wigdets for interactive plot"
   ]
  },
  {
   "cell_type": "code",
   "execution_count": 6,
   "metadata": {
    "collapsed": true,
    "slideshow": {
     "slide_type": "slide"
    }
   },
   "outputs": [],
   "source": [
    "def pp_plot(n):\n",
    "    x = np.linspace(-4, 4, num=150)\n",
    "    dist_b = norm.rvs(loc=0, scale=1, size=100)\n",
    "    dist_b = [i * np.random.exponential(n) for i in dist_b]  # list comprehension\n",
    "    probplot(dist_b, dist=norm, sparams=(0,1), plot=plt)\n",
    "    plt.show()"
   ]
  },
  {
   "cell_type": "code",
   "execution_count": 7,
   "metadata": {
    "collapsed": false,
    "slideshow": {
     "slide_type": "slide"
    }
   },
   "outputs": [
    {
     "data": {
      "image/png": "[encoded data removed]",
      "text/plain": [
       "<matplotlib.figure.Figure at 0x7f0c1f81f810>"
      ]
     },
     "metadata": {},
     "output_type": "display_data"
    }
   ],
   "source": [
    "interact(pp_plot, n=(0.1,6,0.1))"
   ]
  },
  {
   "cell_type": "markdown",
   "metadata": {
    "slideshow": {
     "slide_type": "slide"
    }
   },
   "source": [
    "# Thank you, and read the documentation\n",
    "![Alt](images/bye.gif \"Bye\")"
   ]
  }
 ],
 "metadata": {
  "celltoolbar": "Slideshow",
  "kernelspec": {
   "display_name": "Python 2",
   "language": "python",
   "name": "python2"
  },
  "language_info": {
   "codemirror_mode": {
    "name": "ipython",
    "version": 2
   },
   "file_extension": ".py",
   "mimetype": "text/x-python",
   "name": "python",
   "nbconvert_exporter": "python",
   "pygments_lexer": "ipython2",
   "version": "2.7.12"
  },
  "livereveal": {
   "theme": "serif",
   "transition": "zoom"
  }
 },
 "nbformat": 4,
 "nbformat_minor": 2
}
